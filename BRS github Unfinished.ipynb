{
 "cells": [
  {
   "cell_type": "markdown",
   "metadata": {},
   "source": [
    "## Beta Rotation Strategy"
   ]
  },
  {
   "cell_type": "markdown",
   "metadata": {},
   "source": [
    "This algorithm is based on the paper An Intermarket Approach to Beta Rotation: The Strategy, Signal, and Power of Utilities (Gayed, Bilello 2014)\n",
    "\n",
    "I attempt to recreate/test whether the arbitrage for this strategy still exists, and try a variety of different signals to aid in generating alpha"
   ]
  },
  {
   "cell_type": "code",
   "execution_count": 1,
   "metadata": {},
   "outputs": [],
   "source": [
    "import numpy as np\n",
    "import pandas as pd\n",
    "import wrds\n",
    "import statsmodels.formula.api as sm\n",
    "import statsmodels.tsa.stattools as ts\n",
    "import matplotlib.pyplot as plt"
   ]
  },
  {
   "cell_type": "code",
   "execution_count": 2,
   "metadata": {},
   "outputs": [
    {
     "data": {
      "text/html": [
       "<div>\n",
       "<style scoped>\n",
       "    .dataframe tbody tr th:only-of-type {\n",
       "        vertical-align: middle;\n",
       "    }\n",
       "\n",
       "    .dataframe tbody tr th {\n",
       "        vertical-align: top;\n",
       "    }\n",
       "\n",
       "    .dataframe thead th {\n",
       "        text-align: right;\n",
       "    }\n",
       "</style>\n",
       "<table border=\"1\" class=\"dataframe\">\n",
       "  <thead>\n",
       "    <tr style=\"text-align: right;\">\n",
       "      <th></th>\n",
       "      <th>permno</th>\n",
       "      <th>date</th>\n",
       "      <th>shrcd</th>\n",
       "      <th>exchcd</th>\n",
       "      <th>ret</th>\n",
       "      <th>retx</th>\n",
       "      <th>shrout</th>\n",
       "      <th>prc</th>\n",
       "      <th>bidlo</th>\n",
       "      <th>openprc</th>\n",
       "      <th>askhi</th>\n",
       "      <th>vol</th>\n",
       "      <th>ticker</th>\n",
       "    </tr>\n",
       "  </thead>\n",
       "  <tbody>\n",
       "    <tr>\n",
       "      <td>0</td>\n",
       "      <td>84398.0</td>\n",
       "      <td>2013-01-02</td>\n",
       "      <td>73.0</td>\n",
       "      <td>4.0</td>\n",
       "      <td>0.025630</td>\n",
       "      <td>0.025630</td>\n",
       "      <td>868582.0</td>\n",
       "      <td>146.059998</td>\n",
       "      <td>144.729996</td>\n",
       "      <td>145.110001</td>\n",
       "      <td>146.149994</td>\n",
       "      <td>192058900.0</td>\n",
       "      <td>SPY</td>\n",
       "    </tr>\n",
       "    <tr>\n",
       "      <td>1</td>\n",
       "      <td>86458.0</td>\n",
       "      <td>2013-01-02</td>\n",
       "      <td>73.0</td>\n",
       "      <td>4.0</td>\n",
       "      <td>0.018313</td>\n",
       "      <td>0.018313</td>\n",
       "      <td>158824.0</td>\n",
       "      <td>35.560001</td>\n",
       "      <td>35.294998</td>\n",
       "      <td>35.360001</td>\n",
       "      <td>35.630001</td>\n",
       "      <td>12795500.0</td>\n",
       "      <td>XLU</td>\n",
       "    </tr>\n",
       "    <tr>\n",
       "      <td>2</td>\n",
       "      <td>86458.0</td>\n",
       "      <td>2013-01-03</td>\n",
       "      <td>73.0</td>\n",
       "      <td>4.0</td>\n",
       "      <td>0.000000</td>\n",
       "      <td>0.000000</td>\n",
       "      <td>158824.0</td>\n",
       "      <td>35.560001</td>\n",
       "      <td>35.459099</td>\n",
       "      <td>35.560001</td>\n",
       "      <td>35.689999</td>\n",
       "      <td>8141400.0</td>\n",
       "      <td>XLU</td>\n",
       "    </tr>\n",
       "    <tr>\n",
       "      <td>3</td>\n",
       "      <td>86458.0</td>\n",
       "      <td>2013-01-04</td>\n",
       "      <td>73.0</td>\n",
       "      <td>4.0</td>\n",
       "      <td>0.005062</td>\n",
       "      <td>0.005062</td>\n",
       "      <td>158824.0</td>\n",
       "      <td>35.740002</td>\n",
       "      <td>35.540001</td>\n",
       "      <td>35.560001</td>\n",
       "      <td>35.770000</td>\n",
       "      <td>6179300.0</td>\n",
       "      <td>XLU</td>\n",
       "    </tr>\n",
       "    <tr>\n",
       "      <td>4</td>\n",
       "      <td>86458.0</td>\n",
       "      <td>2013-01-07</td>\n",
       "      <td>73.0</td>\n",
       "      <td>4.0</td>\n",
       "      <td>-0.009793</td>\n",
       "      <td>-0.009793</td>\n",
       "      <td>158824.0</td>\n",
       "      <td>35.389999</td>\n",
       "      <td>35.310001</td>\n",
       "      <td>35.630001</td>\n",
       "      <td>35.720001</td>\n",
       "      <td>8370100.0</td>\n",
       "      <td>XLU</td>\n",
       "    </tr>\n",
       "  </tbody>\n",
       "</table>\n",
       "</div>"
      ],
      "text/plain": [
       "    permno        date  shrcd  exchcd       ret      retx    shrout  \\\n",
       "0  84398.0  2013-01-02   73.0     4.0  0.025630  0.025630  868582.0   \n",
       "1  86458.0  2013-01-02   73.0     4.0  0.018313  0.018313  158824.0   \n",
       "2  86458.0  2013-01-03   73.0     4.0  0.000000  0.000000  158824.0   \n",
       "3  86458.0  2013-01-04   73.0     4.0  0.005062  0.005062  158824.0   \n",
       "4  86458.0  2013-01-07   73.0     4.0 -0.009793 -0.009793  158824.0   \n",
       "\n",
       "          prc       bidlo     openprc       askhi          vol ticker  \n",
       "0  146.059998  144.729996  145.110001  146.149994  192058900.0    SPY  \n",
       "1   35.560001   35.294998   35.360001   35.630001   12795500.0    XLU  \n",
       "2   35.560001   35.459099   35.560001   35.689999    8141400.0    XLU  \n",
       "3   35.740002   35.540001   35.560001   35.770000    6179300.0    XLU  \n",
       "4   35.389999   35.310001   35.630001   35.720001    8370100.0    XLU  "
      ]
     },
     "execution_count": 2,
     "metadata": {},
     "output_type": "execute_result"
    }
   ],
   "source": [
    "brsenv = pd.read_pickle('betarotationVTIXLUSPY')\n",
    "brsenv.head()"
   ]
  },
  {
   "cell_type": "code",
   "execution_count": 3,
   "metadata": {},
   "outputs": [
    {
     "data": {
      "text/html": [
       "<div>\n",
       "<style scoped>\n",
       "    .dataframe tbody tr th:only-of-type {\n",
       "        vertical-align: middle;\n",
       "    }\n",
       "\n",
       "    .dataframe tbody tr th {\n",
       "        vertical-align: top;\n",
       "    }\n",
       "\n",
       "    .dataframe thead tr th {\n",
       "        text-align: left;\n",
       "    }\n",
       "\n",
       "    .dataframe thead tr:last-of-type th {\n",
       "        text-align: right;\n",
       "    }\n",
       "</style>\n",
       "<table border=\"1\" class=\"dataframe\">\n",
       "  <thead>\n",
       "    <tr>\n",
       "      <th></th>\n",
       "      <th colspan=\"3\" halign=\"left\">prc</th>\n",
       "    </tr>\n",
       "    <tr>\n",
       "      <th>ticker</th>\n",
       "      <th>SPY</th>\n",
       "      <th>VTI</th>\n",
       "      <th>XLU</th>\n",
       "    </tr>\n",
       "    <tr>\n",
       "      <th>date</th>\n",
       "      <th></th>\n",
       "      <th></th>\n",
       "      <th></th>\n",
       "    </tr>\n",
       "  </thead>\n",
       "  <tbody>\n",
       "    <tr>\n",
       "      <td>2013-01-02</td>\n",
       "      <td>146.059998</td>\n",
       "      <td>75.139999</td>\n",
       "      <td>35.560001</td>\n",
       "    </tr>\n",
       "    <tr>\n",
       "      <td>2013-01-03</td>\n",
       "      <td>145.734100</td>\n",
       "      <td>75.029999</td>\n",
       "      <td>35.560001</td>\n",
       "    </tr>\n",
       "    <tr>\n",
       "      <td>2013-01-04</td>\n",
       "      <td>146.369995</td>\n",
       "      <td>75.430000</td>\n",
       "      <td>35.740002</td>\n",
       "    </tr>\n",
       "    <tr>\n",
       "      <td>2013-01-07</td>\n",
       "      <td>145.969498</td>\n",
       "      <td>75.209999</td>\n",
       "      <td>35.389999</td>\n",
       "    </tr>\n",
       "    <tr>\n",
       "      <td>2013-01-08</td>\n",
       "      <td>145.549606</td>\n",
       "      <td>75.010002</td>\n",
       "      <td>35.279999</td>\n",
       "    </tr>\n",
       "  </tbody>\n",
       "</table>\n",
       "</div>"
      ],
      "text/plain": [
       "                   prc                      \n",
       "ticker             SPY        VTI        XLU\n",
       "date                                        \n",
       "2013-01-02  146.059998  75.139999  35.560001\n",
       "2013-01-03  145.734100  75.029999  35.560001\n",
       "2013-01-04  146.369995  75.430000  35.740002\n",
       "2013-01-07  145.969498  75.209999  35.389999\n",
       "2013-01-08  145.549606  75.010002  35.279999"
      ]
     },
     "execution_count": 3,
     "metadata": {},
     "output_type": "execute_result"
    }
   ],
   "source": [
    "env = brsenv.copy()\n",
    "env = (brsenv[['date','ticker','prc']]\n",
    "       .set_index(['date','ticker'])\n",
    "        .unstack(-1))\n",
    "env.head()"
   ]
  },
  {
   "cell_type": "code",
   "execution_count": 4,
   "metadata": {},
   "outputs": [
    {
     "data": {
      "text/html": [
       "<div>\n",
       "<style scoped>\n",
       "    .dataframe tbody tr th:only-of-type {\n",
       "        vertical-align: middle;\n",
       "    }\n",
       "\n",
       "    .dataframe tbody tr th {\n",
       "        vertical-align: top;\n",
       "    }\n",
       "\n",
       "    .dataframe thead th {\n",
       "        text-align: right;\n",
       "    }\n",
       "</style>\n",
       "<table border=\"1\" class=\"dataframe\">\n",
       "  <thead>\n",
       "    <tr style=\"text-align: right;\">\n",
       "      <th></th>\n",
       "      <th>VTI</th>\n",
       "      <th>XLU</th>\n",
       "      <th>SPY</th>\n",
       "    </tr>\n",
       "    <tr>\n",
       "      <th>date</th>\n",
       "      <th></th>\n",
       "      <th></th>\n",
       "      <th></th>\n",
       "    </tr>\n",
       "  </thead>\n",
       "  <tbody>\n",
       "    <tr>\n",
       "      <td>2013-01-02</td>\n",
       "      <td>75.139999</td>\n",
       "      <td>35.560001</td>\n",
       "      <td>146.059998</td>\n",
       "    </tr>\n",
       "    <tr>\n",
       "      <td>2013-01-03</td>\n",
       "      <td>75.029999</td>\n",
       "      <td>35.560001</td>\n",
       "      <td>145.734100</td>\n",
       "    </tr>\n",
       "    <tr>\n",
       "      <td>2013-01-04</td>\n",
       "      <td>75.430000</td>\n",
       "      <td>35.740002</td>\n",
       "      <td>146.369995</td>\n",
       "    </tr>\n",
       "    <tr>\n",
       "      <td>2013-01-07</td>\n",
       "      <td>75.209999</td>\n",
       "      <td>35.389999</td>\n",
       "      <td>145.969498</td>\n",
       "    </tr>\n",
       "    <tr>\n",
       "      <td>2013-01-08</td>\n",
       "      <td>75.010002</td>\n",
       "      <td>35.279999</td>\n",
       "      <td>145.549606</td>\n",
       "    </tr>\n",
       "  </tbody>\n",
       "</table>\n",
       "</div>"
      ],
      "text/plain": [
       "                  VTI        XLU         SPY\n",
       "date                                        \n",
       "2013-01-02  75.139999  35.560001  146.059998\n",
       "2013-01-03  75.029999  35.560001  145.734100\n",
       "2013-01-04  75.430000  35.740002  146.369995\n",
       "2013-01-07  75.209999  35.389999  145.969498\n",
       "2013-01-08  75.010002  35.279999  145.549606"
      ]
     },
     "execution_count": 4,
     "metadata": {},
     "output_type": "execute_result"
    }
   ],
   "source": [
    "VTI = pd.DataFrame(env['prc']['VTI'])\n",
    "XLU = pd.DataFrame(env['prc']['XLU'])\n",
    "SPY = pd.DataFrame(env['prc']['SPY'])\n",
    "df = pd.merge(VTI,XLU, on = 'date', how = 'left')\n",
    "df = pd.merge(df,SPY, on ='date', how = 'left')\n",
    "df.head()"
   ]
  },
  {
   "cell_type": "code",
   "execution_count": 5,
   "metadata": {},
   "outputs": [
    {
     "data": {
      "text/plain": [
       "<matplotlib.axes._subplots.AxesSubplot at 0x23de42a2fc8>"
      ]
     },
     "execution_count": 5,
     "metadata": {},
     "output_type": "execute_result"
    },
    {
     "data": {
      "image/png": "[encoded data removed]",
      "text/plain": [
       "<Figure size 432x288 with 1 Axes>"
      ]
     },
     "metadata": {
      "needs_background": "light"
     },
     "output_type": "display_data"
    },
    {
     "data": {
      "image/png": "[encoded data removed]",
      "text/plain": [
       "<Figure size 432x288 with 1 Axes>"
      ]
     },
     "metadata": {
      "needs_background": "light"
     },
     "output_type": "display_data"
    }
   ],
   "source": [
    "df.plot()\n",
    "df.plot.scatter(x='XLU', y='VTI')"
   ]
  },
  {
   "cell_type": "code",
   "execution_count": 6,
   "metadata": {},
   "outputs": [
    {
     "name": "stdout",
     "output_type": "stream",
     "text": [
      "Intercept   -13.067519\n",
      "XLU           2.655167\n",
      "dtype: float64\n",
      "hedgeRatio=2.655167\n"
     ]
    }
   ],
   "source": [
    "# Creating a training set from 2013-2015 for the OLS regression\n",
    "dftrain = (df.copy()\n",
    "            .truncate('2013-01-01', '2015-12-31'))\n",
    "\n",
    "# determining OLS beta as a hedge ratio between XLU/VIT \n",
    "results=sm.ols(formula=\"VTI ~ XLU\", data=dftrain[['XLU', 'VTI']]).fit()\n",
    "print(results.params)\n",
    "hedgeRatio=results.params[1]\n",
    "print('hedgeRatio=%f' % hedgeRatio)"
   ]
  },
  {
   "cell_type": "code",
   "execution_count": 7,
   "metadata": {},
   "outputs": [
    {
     "data": {
      "text/html": [
       "<div>\n",
       "<style scoped>\n",
       "    .dataframe tbody tr th:only-of-type {\n",
       "        vertical-align: middle;\n",
       "    }\n",
       "\n",
       "    .dataframe tbody tr th {\n",
       "        vertical-align: top;\n",
       "    }\n",
       "\n",
       "    .dataframe thead th {\n",
       "        text-align: right;\n",
       "    }\n",
       "</style>\n",
       "<table border=\"1\" class=\"dataframe\">\n",
       "  <thead>\n",
       "    <tr style=\"text-align: right;\">\n",
       "      <th></th>\n",
       "      <th>VTI</th>\n",
       "      <th>XLU</th>\n",
       "      <th>SPY</th>\n",
       "    </tr>\n",
       "    <tr>\n",
       "      <th>date</th>\n",
       "      <th></th>\n",
       "      <th></th>\n",
       "      <th></th>\n",
       "    </tr>\n",
       "  </thead>\n",
       "  <tbody>\n",
       "    <tr>\n",
       "      <td>2019-12-24</td>\n",
       "      <td>163.440002</td>\n",
       "      <td>64.080002</td>\n",
       "      <td>321.230011</td>\n",
       "    </tr>\n",
       "    <tr>\n",
       "      <td>2019-12-26</td>\n",
       "      <td>164.229996</td>\n",
       "      <td>64.190002</td>\n",
       "      <td>322.940002</td>\n",
       "    </tr>\n",
       "    <tr>\n",
       "      <td>2019-12-27</td>\n",
       "      <td>164.080002</td>\n",
       "      <td>64.379997</td>\n",
       "      <td>322.859985</td>\n",
       "    </tr>\n",
       "    <tr>\n",
       "      <td>2019-12-30</td>\n",
       "      <td>163.190002</td>\n",
       "      <td>64.370003</td>\n",
       "      <td>321.079987</td>\n",
       "    </tr>\n",
       "    <tr>\n",
       "      <td>2019-12-31</td>\n",
       "      <td>163.619995</td>\n",
       "      <td>64.620003</td>\n",
       "      <td>321.859985</td>\n",
       "    </tr>\n",
       "  </tbody>\n",
       "</table>\n",
       "</div>"
      ],
      "text/plain": [
       "                   VTI        XLU         SPY\n",
       "date                                         \n",
       "2019-12-24  163.440002  64.080002  321.230011\n",
       "2019-12-26  164.229996  64.190002  322.940002\n",
       "2019-12-27  164.080002  64.379997  322.859985\n",
       "2019-12-30  163.190002  64.370003  321.079987\n",
       "2019-12-31  163.619995  64.620003  321.859985"
      ]
     },
     "execution_count": 7,
     "metadata": {},
     "output_type": "execute_result"
    }
   ],
   "source": [
    "# df will be the test set from 2016-2020\n",
    "df = (df.copy()\n",
    "      .truncate('2016-01-01', '2019-12-31'))\n",
    "df.tail()"
   ]
  },
  {
   "cell_type": "code",
   "execution_count": 8,
   "metadata": {},
   "outputs": [
    {
     "data": {
      "text/plain": [
       "<matplotlib.axes._subplots.AxesSubplot at 0x23de42f5488>"
      ]
     },
     "execution_count": 8,
     "metadata": {},
     "output_type": "execute_result"
    },
    {
     "data": {
      "image/png": "[encoded data removed]",
      "text/plain": [
       "<Figure size 432x288 with 1 Axes>"
      ]
     },
     "metadata": {
      "needs_background": "light"
     },
     "output_type": "display_data"
    }
   ],
   "source": [
    "#Checking for stationarity in the differences in price series with the use of the hedgeratio\n",
    "(df['VTI']-hedgeRatio*df['XLU']).plot()"
   ]
  },
  {
   "cell_type": "markdown",
   "metadata": {},
   "source": [
    "the difference in VTI - XLU * HR  does not appear to be stationary, will perform Cointegrated Dickey Fuller test to evaluate further"
   ]
  },
  {
   "cell_type": "code",
   "execution_count": 9,
   "metadata": {},
   "outputs": [
    {
     "name": "stdout",
     "output_type": "stream",
     "text": [
      "t-statistic=-2.157681\n",
      "pvalue=0.446282\n",
      "[-3.90737061 -3.34221646 -3.04867279]\n"
     ]
    }
   ],
   "source": [
    "# Cointegrated Dickey Fuller Test \n",
    "\n",
    "coint_t, pvalue, crit_value=ts.coint(df['XLU'], df['VTI'])\n",
    "print('t-statistic=%f' % coint_t)\n",
    "print('pvalue=%f' % pvalue)\n",
    "print(crit_value)"
   ]
  },
  {
   "cell_type": "markdown",
   "metadata": {},
   "source": [
    "Results do not point to cointegration as T-stat isn't more negative than any of the critical Values. This is generally good since it shows that there is no cointegrating relationship between the two time series, therefore they can and do move in opposite directions of eachother, which implies they proxy for different risks."
   ]
  },
  {
   "cell_type": "code",
   "execution_count": 10,
   "metadata": {},
   "outputs": [
    {
     "data": {
      "text/html": [
       "<div>\n",
       "<style scoped>\n",
       "    .dataframe tbody tr th:only-of-type {\n",
       "        vertical-align: middle;\n",
       "    }\n",
       "\n",
       "    .dataframe tbody tr th {\n",
       "        vertical-align: top;\n",
       "    }\n",
       "\n",
       "    .dataframe thead th {\n",
       "        text-align: right;\n",
       "    }\n",
       "</style>\n",
       "<table border=\"1\" class=\"dataframe\">\n",
       "  <thead>\n",
       "    <tr style=\"text-align: right;\">\n",
       "      <th></th>\n",
       "      <th>VTI</th>\n",
       "      <th>XLU</th>\n",
       "      <th>SPY</th>\n",
       "      <th>RSI</th>\n",
       "      <th>deltaRSI</th>\n",
       "    </tr>\n",
       "    <tr>\n",
       "      <th>date</th>\n",
       "      <th></th>\n",
       "      <th></th>\n",
       "      <th></th>\n",
       "      <th></th>\n",
       "      <th></th>\n",
       "    </tr>\n",
       "  </thead>\n",
       "  <tbody>\n",
       "    <tr>\n",
       "      <td>2016-01-04</td>\n",
       "      <td>102.739998</td>\n",
       "      <td>43.189999</td>\n",
       "      <td>201.019196</td>\n",
       "      <td>0.420382</td>\n",
       "      <td>0.000000</td>\n",
       "    </tr>\n",
       "    <tr>\n",
       "      <td>2016-01-05</td>\n",
       "      <td>102.970001</td>\n",
       "      <td>43.500000</td>\n",
       "      <td>201.360001</td>\n",
       "      <td>0.422453</td>\n",
       "      <td>0.002072</td>\n",
       "    </tr>\n",
       "    <tr>\n",
       "      <td>2016-01-06</td>\n",
       "      <td>101.589996</td>\n",
       "      <td>43.419998</td>\n",
       "      <td>198.820007</td>\n",
       "      <td>0.427404</td>\n",
       "      <td>0.004951</td>\n",
       "    </tr>\n",
       "    <tr>\n",
       "      <td>2016-01-07</td>\n",
       "      <td>99.099998</td>\n",
       "      <td>43.130001</td>\n",
       "      <td>194.050003</td>\n",
       "      <td>0.435217</td>\n",
       "      <td>0.007813</td>\n",
       "    </tr>\n",
       "    <tr>\n",
       "      <td>2016-01-08</td>\n",
       "      <td>97.970001</td>\n",
       "      <td>43.110001</td>\n",
       "      <td>191.923004</td>\n",
       "      <td>0.440033</td>\n",
       "      <td>0.004816</td>\n",
       "    </tr>\n",
       "  </tbody>\n",
       "</table>\n",
       "</div>"
      ],
      "text/plain": [
       "                   VTI        XLU         SPY       RSI  deltaRSI\n",
       "date                                                             \n",
       "2016-01-04  102.739998  43.189999  201.019196  0.420382  0.000000\n",
       "2016-01-05  102.970001  43.500000  201.360001  0.422453  0.002072\n",
       "2016-01-06  101.589996  43.419998  198.820007  0.427404  0.004951\n",
       "2016-01-07   99.099998  43.130001  194.050003  0.435217  0.007813\n",
       "2016-01-08   97.970001  43.110001  191.923004  0.440033  0.004816"
      ]
     },
     "execution_count": 10,
     "metadata": {},
     "output_type": "execute_result"
    }
   ],
   "source": [
    "# Calculating the Relative Strength of XLU/RSI which will be used as a signal\n",
    "df['RSI']=df['XLU']/df['VTI']\n",
    "\n",
    "#change in RSI to determine whether RSI is positive or negative over a period\n",
    "df['deltaRSI']=df['RSI']-df['RSI'].shift()\n",
    "df['deltaRSI'] = df['deltaRSI'].fillna(0)\n",
    "df.head()"
   ]
  },
  {
   "cell_type": "code",
   "execution_count": 11,
   "metadata": {},
   "outputs": [
    {
     "data": {
      "text/html": [
       "<div>\n",
       "<style scoped>\n",
       "    .dataframe tbody tr th:only-of-type {\n",
       "        vertical-align: middle;\n",
       "    }\n",
       "\n",
       "    .dataframe tbody tr th {\n",
       "        vertical-align: top;\n",
       "    }\n",
       "\n",
       "    .dataframe thead th {\n",
       "        text-align: right;\n",
       "    }\n",
       "</style>\n",
       "<table border=\"1\" class=\"dataframe\">\n",
       "  <thead>\n",
       "    <tr style=\"text-align: right;\">\n",
       "      <th></th>\n",
       "      <th>VTI</th>\n",
       "      <th>XLU</th>\n",
       "      <th>SPY</th>\n",
       "      <th>Signal</th>\n",
       "    </tr>\n",
       "    <tr>\n",
       "      <th>date</th>\n",
       "      <th></th>\n",
       "      <th></th>\n",
       "      <th></th>\n",
       "      <th></th>\n",
       "    </tr>\n",
       "  </thead>\n",
       "  <tbody>\n",
       "    <tr>\n",
       "      <td>2016-01-04</td>\n",
       "      <td>102.739998</td>\n",
       "      <td>43.189999</td>\n",
       "      <td>201.019196</td>\n",
       "      <td>NaN</td>\n",
       "    </tr>\n",
       "    <tr>\n",
       "      <td>2016-01-05</td>\n",
       "      <td>102.970001</td>\n",
       "      <td>43.500000</td>\n",
       "      <td>201.360001</td>\n",
       "      <td>NaN</td>\n",
       "    </tr>\n",
       "    <tr>\n",
       "      <td>2016-01-06</td>\n",
       "      <td>101.589996</td>\n",
       "      <td>43.419998</td>\n",
       "      <td>198.820007</td>\n",
       "      <td>NaN</td>\n",
       "    </tr>\n",
       "    <tr>\n",
       "      <td>2016-01-07</td>\n",
       "      <td>99.099998</td>\n",
       "      <td>43.130001</td>\n",
       "      <td>194.050003</td>\n",
       "      <td>NaN</td>\n",
       "    </tr>\n",
       "    <tr>\n",
       "      <td>2016-01-08</td>\n",
       "      <td>97.970001</td>\n",
       "      <td>43.110001</td>\n",
       "      <td>191.923004</td>\n",
       "      <td>NaN</td>\n",
       "    </tr>\n",
       "    <tr>\n",
       "      <td>2016-01-11</td>\n",
       "      <td>97.910004</td>\n",
       "      <td>43.340000</td>\n",
       "      <td>192.110001</td>\n",
       "      <td>0.019651</td>\n",
       "    </tr>\n",
       "    <tr>\n",
       "      <td>2016-01-12</td>\n",
       "      <td>98.580002</td>\n",
       "      <td>43.169998</td>\n",
       "      <td>193.660797</td>\n",
       "      <td>0.019651</td>\n",
       "    </tr>\n",
       "    <tr>\n",
       "      <td>2016-01-13</td>\n",
       "      <td>96.040001</td>\n",
       "      <td>43.150002</td>\n",
       "      <td>188.830002</td>\n",
       "      <td>0.019651</td>\n",
       "    </tr>\n",
       "    <tr>\n",
       "      <td>2016-01-14</td>\n",
       "      <td>97.510002</td>\n",
       "      <td>43.799999</td>\n",
       "      <td>191.929993</td>\n",
       "      <td>0.019651</td>\n",
       "    </tr>\n",
       "    <tr>\n",
       "      <td>2016-01-15</td>\n",
       "      <td>95.459999</td>\n",
       "      <td>43.410000</td>\n",
       "      <td>187.809998</td>\n",
       "      <td>0.019651</td>\n",
       "    </tr>\n",
       "  </tbody>\n",
       "</table>\n",
       "</div>"
      ],
      "text/plain": [
       "                   VTI        XLU         SPY    Signal\n",
       "date                                                   \n",
       "2016-01-04  102.739998  43.189999  201.019196       NaN\n",
       "2016-01-05  102.970001  43.500000  201.360001       NaN\n",
       "2016-01-06  101.589996  43.419998  198.820007       NaN\n",
       "2016-01-07   99.099998  43.130001  194.050003       NaN\n",
       "2016-01-08   97.970001  43.110001  191.923004       NaN\n",
       "2016-01-11   97.910004  43.340000  192.110001  0.019651\n",
       "2016-01-12   98.580002  43.169998  193.660797  0.019651\n",
       "2016-01-13   96.040001  43.150002  188.830002  0.019651\n",
       "2016-01-14   97.510002  43.799999  191.929993  0.019651\n",
       "2016-01-15   95.459999  43.410000  187.809998  0.019651"
      ]
     },
     "execution_count": 11,
     "metadata": {},
     "output_type": "execute_result"
    }
   ],
   "source": [
    "#Creating a weekly sum of RSI delta, used as signal for entire next week\n",
    "df['RSIsig'] = df['deltaRSI'].rolling(5).sum().shift()\n",
    "\n",
    "df2 = (df.copy()\n",
    "       .drop(df.index[0:5])\n",
    "       .iloc[::5,:])\n",
    "df2 = df2[['RSIsig']]\n",
    "df2 = df2.rename(columns = {'RSIsig':'Signal'})\n",
    "df = pd.merge(df,df2, how = 'left', on ='date')\n",
    "df['Signal'] = df['Signal'].fillna(method='ffill')\n",
    "df = df.drop(columns = ['deltaRSI','RSI','RSIsig'])\n",
    "df.head(10)"
   ]
  },
  {
   "cell_type": "markdown",
   "metadata": {},
   "source": [
    "Since the algorithm is supposed to only enter into trades once a week, and hold for 5 days the signal must be the same for the entire period to avoid complications."
   ]
  },
  {
   "cell_type": "code",
   "execution_count": 12,
   "metadata": {},
   "outputs": [],
   "source": [
    "#Determining buy signals\n",
    "#IF the RSI of the utilities to major market (VTI) is positive over a 5 day period, position into utilities, if negative position into the broader market\n",
    "df['buyXLU']=(df['Signal']>0)*1\n",
    "df['buyVTI']=(df['Signal']<0)*1"
   ]
  },
  {
   "cell_type": "code",
   "execution_count": 13,
   "metadata": {},
   "outputs": [],
   "source": [
    "#determining PNL for XLU/VTI longs\n",
    "\n",
    "df['XLUpnl_long']=(df['XLU']-df['XLU'].shift(1))*df['buyXLU']*np.floor(hedgeRatio)\n",
    "df['VTIpnl_long']=(df['VTI']-df['VTI'].shift(1))*df['buyVTI']\n",
    "df['pnl'] = df['XLUpnl_long']+df['VTIpnl_long']\n",
    "df['cum_pnl'] = df['pnl'].cumsum()\n",
    "VTIcpnl = (df['VTI']-df['VTI'].shift()).cumsum()\n",
    "XLUcpnl = (df['XLU']-df['XLU'].shift()).cumsum()"
   ]
  },
  {
   "cell_type": "code",
   "execution_count": 14,
   "metadata": {},
   "outputs": [
    {
     "data": {
      "text/plain": [
       "<matplotlib.legend.Legend at 0x23de4e10fc8>"
      ]
     },
     "execution_count": 14,
     "metadata": {},
     "output_type": "execute_result"
    },
    {
     "data": {
      "image/png": "[encoded data removed]",
      "text/plain": [
       "<Figure size 432x288 with 1 Axes>"
      ]
     },
     "metadata": {
      "needs_background": "light"
     },
     "output_type": "display_data"
    }
   ],
   "source": [
    "plt.plot(df['cum_pnl'], label = 'BRS')\n",
    "plt.plot(VTIcpnl, label = 'VTI')\n",
    "plt.plot(XLUcpnl, label = 'XLU')\n",
    "plt.legend()"
   ]
  },
  {
   "cell_type": "code",
   "execution_count": 15,
   "metadata": {},
   "outputs": [
    {
     "name": "stdout",
     "output_type": "stream",
     "text": [
      "BRS APR=0.129344 BRS Sharpe=1.048314\n",
      "VTI APR=0.123633 VTI Sharpe=0.961474\n",
      "XLU APR=0.106198 XLY Sharpe=0.829416\n"
     ]
    },
    {
     "data": {
      "image/png": "[encoded data removed]",
      "text/plain": [
       "<Figure size 432x288 with 1 Axes>"
      ]
     },
     "metadata": {
      "needs_background": "light"
     },
     "output_type": "display_data"
    }
   ],
   "source": [
    "VTIret = (df['VTI']-df['VTI'].shift())/df['VTI'].shift()\n",
    "XLUret = (df['XLU']-df['XLU'].shift())/df['XLU'].shift()\n",
    "BRSret = VTIret*df['buyVTI']+XLUret*df['buyXLU']\n",
    "BRScret = np.cumprod(1 + BRSret) -1\n",
    "VTIcret = np.cumprod(1 + VTIret) -1\n",
    "XLUcret = np.cumprod(1 + XLUret) -1\n",
    "plt.plot(BRScret, label = 'BRS')\n",
    "plt.plot(VTIcret, label = 'VTI')\n",
    "plt.plot(XLUcret, label = 'XLU')\n",
    "plt.legend()\n",
    "print('BRS APR=%f BRS Sharpe=%f' % (np.prod(1+BRSret)**(252/len(BRSret))-1, np.sqrt(252)*np.mean(BRSret)/np.std(BRSret)))\n",
    "print('VTI APR=%f VTI Sharpe=%f' % (np.prod(1+VTIret)**(252/len(VTIret))-1, np.sqrt(252)*np.mean(VTIret)/np.std(VTIret)))\n",
    "print('XLU APR=%f XLY Sharpe=%f' % (np.prod(1+XLUret)**(252/len(XLUret))-1, np.sqrt(252)*np.mean(XLUret)/np.std(XLUret)))"
   ]
  },
  {
   "cell_type": "markdown",
   "metadata": {},
   "source": [
    "Long only BRS algo generates slightly higher APR and Sharpe ratio than the individual ETFs \n",
    "Since these returns are long only algorithm, they are exposed to beta, therefore need to evaluate the short side using the same signal. When entering a long position in utilities (XLU) we short the broader general market (VTI)"
   ]
  },
  {
   "cell_type": "code",
   "execution_count": 16,
   "metadata": {},
   "outputs": [
    {
     "data": {
      "text/plain": [
       "[<matplotlib.lines.Line2D at 0x23de4e7e748>]"
      ]
     },
     "execution_count": 16,
     "metadata": {},
     "output_type": "execute_result"
    },
    {
     "data": {
      "image/png": "[encoded data removed]",
      "text/plain": [
       "<Figure size 432x288 with 1 Axes>"
      ]
     },
     "metadata": {
      "needs_background": "light"
     },
     "output_type": "display_data"
    }
   ],
   "source": [
    "#just going to use the reverse signals, when utilities RSI is positive, long utilities/short the market, vice versa\n",
    "\n",
    "#sell signals\n",
    "df['sellXLU']=(df['Signal']<0)*1*np.floor(hedgeRatio)\n",
    "df['sellVTI']=(df['Signal']>0)*1\n",
    "\n",
    "df['XLUshort_pnl']=(df['XLU'].shift()-df['XLU'])*df['sellXLU']\n",
    "df['VTIshort_pnl']=(df['VTI'].shift()-df['VTI'])*df['sellVTI']\n",
    "\n",
    "df['short_pnl'] = df['XLUshort_pnl']+df['VTIshort_pnl']\n",
    "df['short_cum_pnl'] = df['short_pnl'].cumsum()\n",
    "plt.plot(df['short_cum_pnl'])"
   ]
  },
  {
   "cell_type": "markdown",
   "metadata": {},
   "source": [
    "Results demonstrate that the signal does not perform well on the short side and implmenting it would erase almost the gains for the long only strategy. Therefore it is safe to assume that this strategy exhibits very little alpha throughout the last 4 years. "
   ]
  }
 ],
 "metadata": {
  "kernelspec": {
   "display_name": "Python 3",
   "language": "python",
   "name": "python3"
  },
  "language_info": {
   "codemirror_mode": {
    "name": "ipython",
    "version": 3
   },
   "file_extension": ".py",
   "mimetype": "text/x-python",
   "name": "python",
   "nbconvert_exporter": "python",
   "pygments_lexer": "ipython3",
   "version": "3.7.4"
  }
 },
 "nbformat": 4,
 "nbformat_minor": 4
}
