{
 "cells": [
  {
   "cell_type": "markdown",
   "metadata": {},
   "source": [
    "## Portfolio & Risk Management Notebook ##\n",
    "\n",
    "The goal of this notebook is to evaluate a hypothetical portfolio of 5 securities between the dates 01/01/2015 - 12/31/2019.\n",
    "\n",
    "The portfolio consists of equities and ETFs (MSFT, LQD, NVDA, LULU, SLV)\n",
    "\n",
    "**Method:** \n",
    "- first, the price and return series for each security will be visualized \n",
    "- Second, optimal portfolio weights via the Markowitz Efficient Frontier\n",
    "- Third, portfolio risk metrics (VaR, HVaR, and ES) will be analyzed\n",
    "- Fourth, Monte Carlo simulation will be used to create a synthetic time series with similar mean and variance properties to the observed return series, in order to further evaluate tail risks\n"
   ]
  },
  {
   "cell_type": "code",
   "execution_count": 1,
   "metadata": {},
   "outputs": [],
   "source": [
    "import pandas as pd\n",
    "import numpy as np\n",
    "import matplotlib.pyplot as plt\n",
    "import seaborn as sns\n",
    "from scipy import stats\n",
    "from scipy.stats import norm\n",
    "import math\n",
    "from numpy import linalg as LA\n",
    "from scipy.optimize import minimize"
   ]
  },
  {
   "cell_type": "code",
   "execution_count": 2,
   "metadata": {},
   "outputs": [
    {
     "data": {
      "text/plain": [
       "array(['MSFT', 'LQD', 'NVDA', 'LULU', 'SLV'], dtype=object)"
      ]
     },
     "execution_count": 2,
     "metadata": {},
     "output_type": "execute_result"
    }
   ],
   "source": [
    "env = pd.read_pickle('portfolio2015-2019')\n",
    "env['ticker'].unique()"
   ]
  },
  {
   "cell_type": "code",
   "execution_count": 4,
   "metadata": {},
   "outputs": [
    {
     "data": {
      "text/html": [
       "<div>\n",
       "<style scoped>\n",
       "    .dataframe tbody tr th:only-of-type {\n",
       "        vertical-align: middle;\n",
       "    }\n",
       "\n",
       "    .dataframe tbody tr th {\n",
       "        vertical-align: top;\n",
       "    }\n",
       "\n",
       "    .dataframe thead th {\n",
       "        text-align: right;\n",
       "    }\n",
       "</style>\n",
       "<table border=\"1\" class=\"dataframe\">\n",
       "  <thead>\n",
       "    <tr style=\"text-align: right;\">\n",
       "      <th></th>\n",
       "      <th></th>\n",
       "      <th>index</th>\n",
       "      <th>prc</th>\n",
       "      <th>retx</th>\n",
       "    </tr>\n",
       "    <tr>\n",
       "      <th>ticker</th>\n",
       "      <th>date</th>\n",
       "      <th></th>\n",
       "      <th></th>\n",
       "      <th></th>\n",
       "    </tr>\n",
       "  </thead>\n",
       "  <tbody>\n",
       "    <tr>\n",
       "      <td rowspan=\"5\" valign=\"top\">MSFT</td>\n",
       "      <td>2015-01-02</td>\n",
       "      <td>0</td>\n",
       "      <td>46.759998</td>\n",
       "      <td>0.006674</td>\n",
       "    </tr>\n",
       "    <tr>\n",
       "      <td>2015-01-05</td>\n",
       "      <td>1</td>\n",
       "      <td>46.325001</td>\n",
       "      <td>-0.009303</td>\n",
       "    </tr>\n",
       "    <tr>\n",
       "      <td>2015-01-06</td>\n",
       "      <td>2</td>\n",
       "      <td>45.650002</td>\n",
       "      <td>-0.014571</td>\n",
       "    </tr>\n",
       "    <tr>\n",
       "      <td>2015-01-07</td>\n",
       "      <td>3</td>\n",
       "      <td>46.230000</td>\n",
       "      <td>0.012705</td>\n",
       "    </tr>\n",
       "    <tr>\n",
       "      <td>2015-01-08</td>\n",
       "      <td>4</td>\n",
       "      <td>47.590000</td>\n",
       "      <td>0.029418</td>\n",
       "    </tr>\n",
       "  </tbody>\n",
       "</table>\n",
       "</div>"
      ],
      "text/plain": [
       "                   index        prc      retx\n",
       "ticker date                                  \n",
       "MSFT   2015-01-02      0  46.759998  0.006674\n",
       "       2015-01-05      1  46.325001 -0.009303\n",
       "       2015-01-06      2  45.650002 -0.014571\n",
       "       2015-01-07      3  46.230000  0.012705\n",
       "       2015-01-08      4  47.590000  0.029418"
      ]
     },
     "execution_count": 4,
     "metadata": {},
     "output_type": "execute_result"
    }
   ],
   "source": [
    "env = env[['date','ticker','prc','retx']]\n",
    "\n",
    "df = env.copy()\n",
    "df = (env.reset_index()\n",
    "                .set_index(['ticker','date']))\n",
    "df.head()"
   ]
  },
  {
   "cell_type": "markdown",
   "metadata": {},
   "source": [
    "#### Plotting Price and Return series of individual securities"
   ]
  },
  {
   "cell_type": "code",
   "execution_count": 6,
   "metadata": {},
   "outputs": [
    {
     "data": {
      "text/plain": [
       "<matplotlib.legend.Legend at 0x222b8ebec48>"
      ]
     },
     "execution_count": 6,
     "metadata": {},
     "output_type": "execute_result"
    },
    {
     "data": {
      "image/png": "[encoded data removed]",
      "text/plain": [
       "<Figure size 432x288 with 1 Axes>"
      ]
     },
     "metadata": {
      "needs_background": "light"
     },
     "output_type": "display_data"
    }
   ],
   "source": [
    "plt.plot(df.loc['MSFT']['prc'], label = 'MSFT')\n",
    "plt.plot(df.loc['LQD']['prc'], label = 'LQD')\n",
    "plt.plot(df.loc['NVDA']['prc'], label = 'NVDA')\n",
    "plt.plot(df.loc['LULU']['prc'], label = 'LULU')\n",
    "plt.plot(df.loc['SLV']['prc'], label = 'SLV')\n",
    "plt.title('Price Series ($) 2015-2020')\n",
    "plt.legend()"
   ]
  },
  {
   "cell_type": "markdown",
   "metadata": {},
   "source": [
    "### Plotting returns series of each individual security "
   ]
  },
  {
   "cell_type": "code",
   "execution_count": 7,
   "metadata": {},
   "outputs": [
    {
     "data": {
      "text/plain": [
       "<matplotlib.legend.Legend at 0x222b8ebe788>"
      ]
     },
     "execution_count": 7,
     "metadata": {},
     "output_type": "execute_result"
    },
    {
     "data": {
      "image/png": "[encoded data removed]",
      "text/plain": [
       "<Figure size 432x288 with 1 Axes>"
      ]
     },
     "metadata": {
      "needs_background": "light"
     },
     "output_type": "display_data"
    }
   ],
   "source": [
    "#Plotting daily stock returns from 2015-2019\n",
    "plt.plot(df.loc['MSFT']['retx'], label = 'MSFT')\n",
    "plt.plot(df.loc['LQD']['retx'], label = 'LQD')\n",
    "plt.plot(df.loc['NVDA']['retx'], label = 'NVDA')\n",
    "plt.plot(df.loc['LULU']['retx'], label = 'LULU')\n",
    "plt.plot(df.loc['SLV']['retx'], label = 'SLV')\n",
    "plt.title('Daily Returns (2015-2019)')\n",
    "plt.legend()"
   ]
  },
  {
   "cell_type": "markdown",
   "metadata": {},
   "source": [
    "Separating Price and Returns in their own dataframes"
   ]
  },
  {
   "cell_type": "code",
   "execution_count": 8,
   "metadata": {},
   "outputs": [],
   "source": [
    "env = env.reset_index()\n",
    "tickers = list(env['ticker'].unique())\n",
    "env = env.set_index(['ticker','date'])\n",
    "\n",
    "returns = pd.DataFrame()\n",
    "prices = pd.DataFrame()\n",
    "for ticker in tickers:\n",
    "    returns[\"{}_retx\".format(ticker)] = env.loc[ticker]['retx']\n",
    "    prices[\"{}_prc\".format(ticker)] = env.loc[ticker]['prc']"
   ]
  },
  {
   "cell_type": "markdown",
   "metadata": {},
   "source": [
    "### Markowitz Efficient Frontier\n",
    "\n",
    "Creating the Markowitz Efficient Frontier through simulation of 5000 random portfolio weight arrays "
   ]
  },
  {
   "cell_type": "code",
   "execution_count": 9,
   "metadata": {},
   "outputs": [
    {
     "name": "stdout",
     "output_type": "stream",
     "text": [
      "Max Sharpe Ratio=1.647453 Max Sharpe portfolio - 3436.000000\n"
     ]
    }
   ],
   "source": [
    "np.random.seed(13)\n",
    "ports = 5000\n",
    "sec_weights = np.zeros((ports, returns.shape[1]))\n",
    "returns_ports = np.zeros(ports)\n",
    "vol_ports = np.zeros(ports)\n",
    "sharpe_ports = np.zeros(ports)\n",
    "\n",
    "for x in range(ports):\n",
    "    # Weights\n",
    "    weights = np.array(np.random.random(5))\n",
    "    weights = weights/np.sum(weights)\n",
    "    \n",
    "    # Save weights\n",
    "    sec_weights[x,:] = weights\n",
    "    \n",
    "    # Expected return\n",
    "    returns_ports[x] = np.sum( (returns.mean() * weights * 252))\n",
    "    \n",
    "    # Expected volatility\n",
    "    vol_ports[x] = np.sqrt(np.dot(weights.T, np.dot(returns.cov()*252, weights)))\n",
    "    \n",
    "    # Sharpe Ratio\n",
    "    sharpe_ports[x] = returns_ports[x]/vol_ports[x]\n",
    "    \n",
    "print('Max Sharpe Ratio=%f Max Sharpe portfolio - %f' %(sharpe_ports.max(),sharpe_ports.argmax()))"
   ]
  },
  {
   "cell_type": "markdown",
   "metadata": {},
   "source": [
    "### Random Portfolio #3436 yields the Highest Sharpe Ratio of 1.647"
   ]
  },
  {
   "cell_type": "code",
   "execution_count": 10,
   "metadata": {},
   "outputs": [
    {
     "data": {
      "image/png": "[encoded data removed]",
      "text/plain": [
       "<Figure size 864x576 with 2 Axes>"
      ]
     },
     "metadata": {
      "needs_background": "light"
     },
     "output_type": "display_data"
    },
    {
     "name": "stdout",
     "output_type": "stream",
     "text": [
      "Sharpe Ratio for Efficient Portfoli 1.6475\n",
      "Expected Return for Efficient Portfolio 0.2149\n",
      "Standard Deviation for Efficient Portfolio 0.1304\n"
     ]
    }
   ],
   "source": [
    "max_sharpe_vol = vol_ports[sharpe_ports.argmax()]\n",
    "max_sharpe_return = returns_ports[sharpe_ports.argmax()]\n",
    "plt.figure(figsize=(12,8))\n",
    "plt.scatter(vol_ports, returns_ports, c=sharpe_ports, cmap='Spectral')\n",
    "plt.colorbar(label='Sharpe Ratio')\n",
    "plt.xlabel('Volatility')\n",
    "plt.ylabel('Return')\n",
    "plt.scatter(max_sharpe_vol, max_sharpe_return,c='red', s=75)\n",
    "plt.show()\n",
    "print('Sharpe Ratio for Efficient Portfoli', round(sharpe_ports.max(),4))\n",
    "print('Expected Return for Efficient Portfolio', round(max_sharpe_return,4))\n",
    "print('Standard Deviation for Efficient Portfolio', round(max_sharpe_vol, 4))"
   ]
  },
  {
   "cell_type": "markdown",
   "metadata": {},
   "source": [
    "###  Calculating Portfolio Mean and Portfolio Variance \n",
    "\n",
    "- Portfolio Mean: $ \\hat{\\mu}_p = E[x'R] = x'\\mu $\n",
    "\n",
    "- Portfolio Variance: $ \\hat{\\sigma}^2_p = x' \\Sigma x $\n",
    "\n",
    "- Portfolio Standard Deviation: $ \\hat{\\sigma}_p = \\sqrt{\\hat{\\sigma}^2_p} $\n",
    "\n",
    "Where x is nx1 position vector, $\\Sigma$ is the nxn covariance matrix, and $ \\mu $ is the nx1 mean return matrix "
   ]
  },
  {
   "cell_type": "markdown",
   "metadata": {},
   "source": [
    "### Finding the Efficient portfolio using Scipy optimize"
   ]
  },
  {
   "cell_type": "code",
   "execution_count": 11,
   "metadata": {},
   "outputs": [
    {
     "name": "stdout",
     "output_type": "stream",
     "text": [
      "     fun: -1.648773837018386\n",
      "     jac: array([ 0.00032558,  0.00011557,  0.00061087, -0.00175165,  0.00020914])\n",
      " message: 'Optimization terminated successfully.'\n",
      "    nfev: 66\n",
      "     nit: 9\n",
      "    njev: 9\n",
      "  status: 0\n",
      " success: True\n",
      "       x: array([0.18446205, 0.42168929, 0.18501929, 0.1353772 , 0.07345218])\n"
     ]
    }
   ],
   "source": [
    "def portfolio_returns(weights):\n",
    "    weights = np.array(weights)\n",
    "    port_returns = np.sum(returns.mean() * weights) * 252\n",
    "    return port_returns\n",
    "\n",
    "def portfolio_volatility(weights):\n",
    "    weights = np.array(weights)\n",
    "    port_vol = np.sqrt(np.dot(weights.T, np.dot(returns.cov()*252, weights)))\n",
    "    return port_vol\n",
    "\n",
    "def portfolio_sharpe(weights):\n",
    "    weights = np.array(weights)\n",
    "    port_sharpe = portfolio_returns(weights)/portfolio_volatility(weights)\n",
    "    return port_sharpe\n",
    "\n",
    "def check_sum(weights):\n",
    "    #return 0 if sum of the weights is 1\n",
    "    return np.sum(weights)-1\n",
    "\n",
    "def neg_sharpe(weights):\n",
    "    return portfolio_sharpe(weights)*-1\n",
    "    \n",
    "\n",
    "constraints = ({'type':'eq', 'fun':check_sum})\n",
    "bounds = ((0,1),(0,1),(0,1),(0,1),(0,1))\n",
    "initial_weights = [0.2,0.2,0.2,0.2,0.2]\n",
    "\n",
    "optimized_weights = minimize(neg_sharpe, initial_weights, method = 'SLSQP', bounds=bounds, constraints = constraints)\n",
    "print(optimized_weights)"
   ]
  },
  {
   "cell_type": "code",
   "execution_count": 12,
   "metadata": {},
   "outputs": [
    {
     "name": "stdout",
     "output_type": "stream",
     "text": [
      "Return = 0.215194 Volatility = 0.130518 Sharpe = 1.648774\n"
     ]
    }
   ],
   "source": [
    "print('Return = %f Volatility = %f Sharpe = %f' %(portfolio_returns(optimized_weights.x), portfolio_volatility(optimized_weights.x), portfolio_sharpe(optimized_weights.x)))"
   ]
  },
  {
   "cell_type": "code",
   "execution_count": 13,
   "metadata": {},
   "outputs": [
    {
     "name": "stdout",
     "output_type": "stream",
     "text": [
      "[0.18446205 0.42168929 0.18501929 0.1353772  0.07345218]\n"
     ]
    }
   ],
   "source": [
    "w = optimized_weights.x\n",
    "print(w)"
   ]
  },
  {
   "cell_type": "markdown",
   "metadata": {},
   "source": [
    "### Risk Metrics\n",
    "\n",
    "Value at Risk, Historical Value at Risk, and Expected Shortfall calculations"
   ]
  },
  {
   "cell_type": "code",
   "execution_count": 14,
   "metadata": {},
   "outputs": [],
   "source": [
    "#Normal distribution VaR calculation\n",
    "# Paramenters\n",
    "# mu: mean returns\n",
    "# sigma: volatility\n",
    "# a: percentage level (eg 5% = 0.05)\n",
    "# N: day period\n",
    "# d: dollar value of portolio\n",
    "def ndayvar(mu,sigma,a,N=1):\n",
    "    z = norm.ppf(1-a)\n",
    "    return -(mu - z*sigma)*np.sqrt(N)\n",
    "\n",
    "#Expected Shortfall \n",
    "# Parameters \n",
    "# mu: mean returns\n",
    "# sigma: volatility\n",
    "# a: percentage level (eg 5% = 0.05)\n",
    "# d: dollar value of portfolio \n",
    "def expected_shortfall(mu, sigma, a, d=1):\n",
    "    return a**-1 * norm.pdf(norm.ppf(a))*sigma -mu\n",
    "\n",
    "def hist_var(ret_df, ret_colname, a):\n",
    "#ret_df: Returns Data Frame\n",
    "#ret_colname: specific returns column name\n",
    "#a: percentage level (eg 5% = 0.05)\n",
    "    ret_sorted = (ret_df.copy()\n",
    "                      .reset_index()\n",
    "                      .sort_values(by =ret_colname, ascending = True))\n",
    "    histX = (a)*len(ret_sorted)-1\n",
    "    offset = math.modf(histX)\n",
    "    histVaR = np.float(offset[0]) * ret_sorted[ret_colname].iloc[math.ceil(histX)] + (1-np.float(offset[0])) * ret_sorted[ret_colname].iloc[math.floor(histX)]\n",
    "    return -histVaR\n"
   ]
  },
  {
   "cell_type": "code",
   "execution_count": 15,
   "metadata": {},
   "outputs": [
    {
     "data": {
      "text/plain": [
       "[<matplotlib.lines.Line2D at 0x222b9b6a208>]"
      ]
     },
     "execution_count": 15,
     "metadata": {},
     "output_type": "execute_result"
    },
    {
     "data": {
      "image/png": "[encoded data removed]",
      "text/plain": [
       "<Figure size 432x288 with 1 Axes>"
      ]
     },
     "metadata": {
      "needs_background": "light"
     },
     "output_type": "display_data"
    }
   ],
   "source": [
    "optimized_returns = returns*w\n",
    "optimized_returns\n",
    "optimized_returns['total_ret'] = optimized_returns.sum(axis=1)\n",
    "\n",
    "#Calculating daily Mean and Volatility for the optimized portfolio\n",
    "mu = portfolio_returns(optimized_weights.x)/252\n",
    "sigma = portfolio_volatility(optimized_weights.x)/np.sqrt(252)\n",
    "\n",
    "plt.hist(optimized_returns['total_ret'], color = 'blue', edgecolor = 'black', bins ='auto', alpha = 0.5)\n",
    "norm_dist = np.linspace(mu - 3*sigma, mu + 3*sigma, 100)\n",
    "plt.plot(norm_dist, stats.norm.pdf(norm_dist, mu, sigma), c = 'red')"
   ]
  },
  {
   "cell_type": "code",
   "execution_count": 16,
   "metadata": {},
   "outputs": [
    {
     "name": "stdout",
     "output_type": "stream",
     "text": [
      "Portfolio 1 95% VaR is 0.01267\n",
      "Portfolio 1 95%  Historical VaR is 0.01257\n",
      "Portfolio 1 95% ES is 0.01611\n"
     ]
    }
   ],
   "source": [
    "VaR95 = ndayvar(mu,sigma,0.05)\n",
    "ES95 = expected_shortfall(mu,sigma,0.05)\n",
    "HVaR95 = hist_var(optimized_returns, 'total_ret', 0.05)\n",
    "\n",
    "print('Portfolio 1 95% VaR is', round(VaR95, 5))\n",
    "print('Portfolio 1 95%  Historical VaR is', round(HVaR95, 5))\n",
    "print('Portfolio 1 95% ES is', round(ES95, 5))"
   ]
  },
  {
   "cell_type": "markdown",
   "metadata": {},
   "source": [
    "### Further Tail risk evaluation - Monte Carlo Simulation "
   ]
  },
  {
   "cell_type": "markdown",
   "metadata": {},
   "source": [
    "Covariance Matrix decomposition $ \\Sigma = E' \\Lambda^{{1}/{2}} \\Lambda^{{1}/{2}} E $:\n",
    "\n",
    "yields the transpose of Eigenvectors and the diagonal of the square root of Eigenvalues eg. yielding the Gaussian Copula, multiplied through by the diagonal matrix of the square root eigen values and the transpose of the Eigenvectors matrix.\n",
    "\n",
    "If R is an nx1 random normal vector, and $ \\Lambda^{{1}/{2}} $ is an nxn diagonal matrix containing the square roots of the Eigenvalues, and E is a matrix of Eigenvectors.\n",
    "\n",
    "Then,  $ R \\Lambda^{{1}/{2}} E' \\sim N(0,\\Sigma)$  yields an array that has the same covariance structure as our observed array\n",
    "\n",
    "Note: All operations are conducted on the original unweighted return series, not the optimized return series"
   ]
  },
  {
   "cell_type": "code",
   "execution_count": 17,
   "metadata": {},
   "outputs": [],
   "source": [
    "ret_cov = returns.cov()\n",
    "\n",
    "#Eigenvector decomposition\n",
    "eigenvals, eigenvecs = LA.eig(np.array(ret_cov))"
   ]
  },
  {
   "cell_type": "code",
   "execution_count": 18,
   "metadata": {},
   "outputs": [
    {
     "data": {
      "text/plain": [
       "array([8.54616365e-04, 4.57245558e-04, 1.47661830e-04, 1.65817138e-04,\n",
       "       9.05685501e-06])"
      ]
     },
     "execution_count": 18,
     "metadata": {},
     "output_type": "execute_result"
    }
   ],
   "source": [
    "eigenvals"
   ]
  },
  {
   "cell_type": "code",
   "execution_count": 19,
   "metadata": {},
   "outputs": [
    {
     "data": {
      "text/plain": [
       "array([[ 0.30084764,  0.02832702, -0.82346328, -0.48016367, -0.00627317],\n",
       "       [-0.0026968 , -0.00427526,  0.03148511, -0.06896461,  0.99710933],\n",
       "       [ 0.85605136,  0.43124005,  0.26132902,  0.11358268,  0.00376837],\n",
       "       [ 0.41947767, -0.9015855 ,  0.08863755,  0.05764607, -0.00154295],\n",
       "       [-0.02641924, -0.01883889,  0.49473977, -0.86513735, -0.07561115]])"
      ]
     },
     "execution_count": 19,
     "metadata": {},
     "output_type": "execute_result"
    }
   ],
   "source": [
    "eigenvecs"
   ]
  },
  {
   "cell_type": "markdown",
   "metadata": {},
   "source": [
    "The Transformation matrix is created by taking the square root of the eigenvalue diagonal matrix and multiplying it by the transpose eigenvector matrix "
   ]
  },
  {
   "cell_type": "code",
   "execution_count": 20,
   "metadata": {},
   "outputs": [
    {
     "data": {
      "text/plain": [
       "array([[ 8.79492633e-03, -7.88377716e-05,  2.50256534e-02,\n",
       "         1.22629356e-02, -7.72335319e-04],\n",
       "       [ 6.05725100e-04, -9.14192256e-05,  9.22133569e-03,\n",
       "        -1.92788741e-02, -4.02837620e-04],\n",
       "       [-1.00064116e-02,  3.82595057e-04,  3.17557058e-03,\n",
       "         1.07708967e-03,  6.01188885e-03],\n",
       "       [-6.18306773e-03, -8.88057308e-04,  1.46260424e-03,\n",
       "         7.42308524e-04, -1.11403740e-02],\n",
       "       [-1.88788585e-05,  3.00076156e-03,  1.13407588e-05,\n",
       "        -4.64345231e-06, -2.27548807e-04]])"
      ]
     },
     "execution_count": 20,
     "metadata": {},
     "output_type": "execute_result"
    }
   ],
   "source": [
    "transm = np.dot(np.sqrt(np.diag(eigenvals)),eigenvecs.T)\n",
    "transm"
   ]
  },
  {
   "cell_type": "markdown",
   "metadata": {},
   "source": [
    "The Transformation matrix allows us to created a synthetic time series by multiplying through any amount of random variables. The synthetic time series will exhibit the same correlations as our observed returns matrix, allows us to evaluate tail risk more closely.\n",
    "\n",
    "We can simulate synthetic time series with a much larger degree of observation than our observed data set"
   ]
  },
  {
   "cell_type": "code",
   "execution_count": 21,
   "metadata": {},
   "outputs": [
    {
     "data": {
      "text/plain": [
       "1258"
      ]
     },
     "execution_count": 21,
     "metadata": {},
     "output_type": "execute_result"
    }
   ],
   "source": [
    "# returns DataFrame only has 1258 observation for each security\n",
    "returns.shape[0]"
   ]
  },
  {
   "cell_type": "code",
   "execution_count": 22,
   "metadata": {},
   "outputs": [
    {
     "data": {
      "text/html": [
       "<div>\n",
       "<style scoped>\n",
       "    .dataframe tbody tr th:only-of-type {\n",
       "        vertical-align: middle;\n",
       "    }\n",
       "\n",
       "    .dataframe tbody tr th {\n",
       "        vertical-align: top;\n",
       "    }\n",
       "\n",
       "    .dataframe thead th {\n",
       "        text-align: right;\n",
       "    }\n",
       "</style>\n",
       "<table border=\"1\" class=\"dataframe\">\n",
       "  <thead>\n",
       "    <tr style=\"text-align: right;\">\n",
       "      <th></th>\n",
       "      <th>MSFT_retx</th>\n",
       "      <th>LQD_retx</th>\n",
       "      <th>NVDA_retx</th>\n",
       "      <th>LULU_retx</th>\n",
       "      <th>SLV_retx</th>\n",
       "    </tr>\n",
       "  </thead>\n",
       "  <tbody>\n",
       "    <tr>\n",
       "      <td>MSFT_retx</td>\n",
       "      <td>1.000000</td>\n",
       "      <td>0.018481</td>\n",
       "      <td>0.467540</td>\n",
       "      <td>0.240200</td>\n",
       "      <td>0.009069</td>\n",
       "    </tr>\n",
       "    <tr>\n",
       "      <td>LQD_retx</td>\n",
       "      <td>0.018481</td>\n",
       "      <td>1.000000</td>\n",
       "      <td>-0.033769</td>\n",
       "      <td>0.007404</td>\n",
       "      <td>0.289915</td>\n",
       "    </tr>\n",
       "    <tr>\n",
       "      <td>NVDA_retx</td>\n",
       "      <td>0.467540</td>\n",
       "      <td>-0.033769</td>\n",
       "      <td>1.000000</td>\n",
       "      <td>0.217051</td>\n",
       "      <td>-0.059314</td>\n",
       "    </tr>\n",
       "    <tr>\n",
       "      <td>LULU_retx</td>\n",
       "      <td>0.240200</td>\n",
       "      <td>0.007404</td>\n",
       "      <td>0.217051</td>\n",
       "      <td>1.000000</td>\n",
       "      <td>-0.012044</td>\n",
       "    </tr>\n",
       "    <tr>\n",
       "      <td>SLV_retx</td>\n",
       "      <td>0.009069</td>\n",
       "      <td>0.289915</td>\n",
       "      <td>-0.059314</td>\n",
       "      <td>-0.012044</td>\n",
       "      <td>1.000000</td>\n",
       "    </tr>\n",
       "  </tbody>\n",
       "</table>\n",
       "</div>"
      ],
      "text/plain": [
       "           MSFT_retx  LQD_retx  NVDA_retx  LULU_retx  SLV_retx\n",
       "MSFT_retx   1.000000  0.018481   0.467540   0.240200  0.009069\n",
       "LQD_retx    0.018481  1.000000  -0.033769   0.007404  0.289915\n",
       "NVDA_retx   0.467540 -0.033769   1.000000   0.217051 -0.059314\n",
       "LULU_retx   0.240200  0.007404   0.217051   1.000000 -0.012044\n",
       "SLV_retx    0.009069  0.289915  -0.059314  -0.012044  1.000000"
      ]
     },
     "execution_count": 22,
     "metadata": {},
     "output_type": "execute_result"
    }
   ],
   "source": [
    "# Optimized returns correlation matrix \n",
    "ret_corr = returns.corr()\n",
    "ret_corr"
   ]
  },
  {
   "cell_type": "code",
   "execution_count": 23,
   "metadata": {},
   "outputs": [
    {
     "data": {
      "text/html": [
       "<div>\n",
       "<style scoped>\n",
       "    .dataframe tbody tr th:only-of-type {\n",
       "        vertical-align: middle;\n",
       "    }\n",
       "\n",
       "    .dataframe tbody tr th {\n",
       "        vertical-align: top;\n",
       "    }\n",
       "\n",
       "    .dataframe thead th {\n",
       "        text-align: right;\n",
       "    }\n",
       "</style>\n",
       "<table border=\"1\" class=\"dataframe\">\n",
       "  <thead>\n",
       "    <tr style=\"text-align: right;\">\n",
       "      <th></th>\n",
       "      <th>0</th>\n",
       "      <th>1</th>\n",
       "      <th>2</th>\n",
       "      <th>3</th>\n",
       "      <th>4</th>\n",
       "    </tr>\n",
       "  </thead>\n",
       "  <tbody>\n",
       "    <tr>\n",
       "      <td>0</td>\n",
       "      <td>1.000000</td>\n",
       "      <td>0.017515</td>\n",
       "      <td>0.467992</td>\n",
       "      <td>0.238055</td>\n",
       "      <td>-0.003980</td>\n",
       "    </tr>\n",
       "    <tr>\n",
       "      <td>1</td>\n",
       "      <td>0.017515</td>\n",
       "      <td>1.000000</td>\n",
       "      <td>-0.032580</td>\n",
       "      <td>0.011082</td>\n",
       "      <td>0.304795</td>\n",
       "    </tr>\n",
       "    <tr>\n",
       "      <td>2</td>\n",
       "      <td>0.467992</td>\n",
       "      <td>-0.032580</td>\n",
       "      <td>1.000000</td>\n",
       "      <td>0.210192</td>\n",
       "      <td>-0.055817</td>\n",
       "    </tr>\n",
       "    <tr>\n",
       "      <td>3</td>\n",
       "      <td>0.238055</td>\n",
       "      <td>0.011082</td>\n",
       "      <td>0.210192</td>\n",
       "      <td>1.000000</td>\n",
       "      <td>0.006353</td>\n",
       "    </tr>\n",
       "    <tr>\n",
       "      <td>4</td>\n",
       "      <td>-0.003980</td>\n",
       "      <td>0.304795</td>\n",
       "      <td>-0.055817</td>\n",
       "      <td>0.006353</td>\n",
       "      <td>1.000000</td>\n",
       "    </tr>\n",
       "  </tbody>\n",
       "</table>\n",
       "</div>"
      ],
      "text/plain": [
       "          0         1         2         3         4\n",
       "0  1.000000  0.017515  0.467992  0.238055 -0.003980\n",
       "1  0.017515  1.000000 -0.032580  0.011082  0.304795\n",
       "2  0.467992 -0.032580  1.000000  0.210192 -0.055817\n",
       "3  0.238055  0.011082  0.210192  1.000000  0.006353\n",
       "4 -0.003980  0.304795 -0.055817  0.006353  1.000000"
      ]
     },
     "execution_count": 23,
     "metadata": {},
     "output_type": "execute_result"
    }
   ],
   "source": [
    "#creating random array with 5000 observations for each security\n",
    "np.random.seed(32)\n",
    "randarray = np.random.rand(5000,5)\n",
    "#multiplying through by transformation matrix \n",
    "rand_corr = np.dot(randarray, transm)\n",
    "pd.DataFrame(rand_corr).corr()\n"
   ]
  },
  {
   "cell_type": "markdown",
   "metadata": {},
   "source": [
    "When ran for 5000 observations the correlations between certain assets are still highly different from the observed correlations.\n",
    "\n",
    "This is a result of sampling error, the more random variables we add into the set, the closer the results will be to our observed returns correlations"
   ]
  },
  {
   "cell_type": "code",
   "execution_count": 24,
   "metadata": {},
   "outputs": [
    {
     "data": {
      "text/html": [
       "<div>\n",
       "<style scoped>\n",
       "    .dataframe tbody tr th:only-of-type {\n",
       "        vertical-align: middle;\n",
       "    }\n",
       "\n",
       "    .dataframe tbody tr th {\n",
       "        vertical-align: top;\n",
       "    }\n",
       "\n",
       "    .dataframe thead th {\n",
       "        text-align: right;\n",
       "    }\n",
       "</style>\n",
       "<table border=\"1\" class=\"dataframe\">\n",
       "  <thead>\n",
       "    <tr style=\"text-align: right;\">\n",
       "      <th></th>\n",
       "      <th>0</th>\n",
       "      <th>1</th>\n",
       "      <th>2</th>\n",
       "      <th>3</th>\n",
       "      <th>4</th>\n",
       "    </tr>\n",
       "  </thead>\n",
       "  <tbody>\n",
       "    <tr>\n",
       "      <td>0</td>\n",
       "      <td>1.000000</td>\n",
       "      <td>0.018483</td>\n",
       "      <td>0.467479</td>\n",
       "      <td>0.239667</td>\n",
       "      <td>0.009131</td>\n",
       "    </tr>\n",
       "    <tr>\n",
       "      <td>1</td>\n",
       "      <td>0.018483</td>\n",
       "      <td>1.000000</td>\n",
       "      <td>-0.034014</td>\n",
       "      <td>0.007713</td>\n",
       "      <td>0.290386</td>\n",
       "    </tr>\n",
       "    <tr>\n",
       "      <td>2</td>\n",
       "      <td>0.467479</td>\n",
       "      <td>-0.034014</td>\n",
       "      <td>1.000000</td>\n",
       "      <td>0.216780</td>\n",
       "      <td>-0.059453</td>\n",
       "    </tr>\n",
       "    <tr>\n",
       "      <td>3</td>\n",
       "      <td>0.239667</td>\n",
       "      <td>0.007713</td>\n",
       "      <td>0.216780</td>\n",
       "      <td>1.000000</td>\n",
       "      <td>-0.012082</td>\n",
       "    </tr>\n",
       "    <tr>\n",
       "      <td>4</td>\n",
       "      <td>0.009131</td>\n",
       "      <td>0.290386</td>\n",
       "      <td>-0.059453</td>\n",
       "      <td>-0.012082</td>\n",
       "      <td>1.000000</td>\n",
       "    </tr>\n",
       "  </tbody>\n",
       "</table>\n",
       "</div>"
      ],
      "text/plain": [
       "          0         1         2         3         4\n",
       "0  1.000000  0.018483  0.467479  0.239667  0.009131\n",
       "1  0.018483  1.000000 -0.034014  0.007713  0.290386\n",
       "2  0.467479 -0.034014  1.000000  0.216780 -0.059453\n",
       "3  0.239667  0.007713  0.216780  1.000000 -0.012082\n",
       "4  0.009131  0.290386 -0.059453 -0.012082  1.000000"
      ]
     },
     "execution_count": 24,
     "metadata": {},
     "output_type": "execute_result"
    }
   ],
   "source": [
    "# using 10,000,000 observations for each security \n",
    "ra10mmrand = np.random.rand(10000000,5)\n",
    "ra10mmtrans = np.dot(ra10mmrand, transm)\n",
    "ra10mm = pd.DataFrame(ra10mmtrans)\n",
    "ra10mm.corr()"
   ]
  },
  {
   "cell_type": "markdown",
   "metadata": {},
   "source": [
    "Notice how the synthetic correlations converge towards the observed values, can use this time series to closely evaluate the behavior of the left tail"
   ]
  },
  {
   "cell_type": "code",
   "execution_count": 25,
   "metadata": {},
   "outputs": [
    {
     "data": {
      "text/plain": [
       "<a list of 350 Patch objects>"
      ]
     },
     "execution_count": 25,
     "metadata": {},
     "output_type": "execute_result"
    },
    {
     "data": {
      "image/png": "[encoded data removed]",
      "text/plain": [
       "<Figure size 432x288 with 1 Axes>"
      ]
     },
     "metadata": {
      "needs_background": "light"
     },
     "output_type": "display_data"
    }
   ],
   "source": [
    "ra10mm_totalret = ra10mm.sum(axis=1)\n",
    "plt.hist(ra10mm_totalret, color = 'blue', edgecolor = 'black', bins = 'auto' , alpha = 0.5)[2]\n",
    "#norm_dist = np.linspace(mu - 3*sigma, mu + 3*sigma, 100)\n",
    "#plt.plot(norm_dist, stats.norm.pdf(norm_dist, mu, sigma), c = 'red')"
   ]
  },
  {
   "cell_type": "markdown",
   "metadata": {},
   "source": [
    "With such a large # of observations we can see that the distribution appears to be normal, however we cannot see what is going on at left tail. However, due to the large # of observations we can sort by all values leading up to the 5th percentile and graph the distribution"
   ]
  },
  {
   "cell_type": "code",
   "execution_count": 26,
   "metadata": {},
   "outputs": [
    {
     "data": {
      "text/plain": [
       "<a list of 153 Patch objects>"
      ]
     },
     "execution_count": 26,
     "metadata": {},
     "output_type": "execute_result"
    },
    {
     "data": {
      "image/png": "[encoded data removed]",
      "text/plain": [
       "<Figure size 432x288 with 1 Axes>"
      ]
     },
     "metadata": {
      "needs_background": "light"
     },
     "output_type": "display_data"
    }
   ],
   "source": [
    "dfra10 = pd.DataFrame(ra10mm_totalret)\n",
    "dfra10 = dfra10.sort_values(dfra10.columns[0], ascending = True)\n",
    "dfra5pct = dfra10.iloc[0:500000,]\n",
    "plt.hist(dfra5pct[0], color = 'blue', edgecolor = 'black', bins = 'auto' , alpha = 0.5)[2]"
   ]
  },
  {
   "cell_type": "markdown",
   "metadata": {},
   "source": [
    "From this distribution we can see that the tail end does not drop off fast but rather eases of smoothly, indicating that the difference in the VaR and ES results is purely from the calculation method, with ES being the Integral of VaR, and not from the odd behavior in the left tail of the distribution."
   ]
  }
 ],
 "metadata": {
  "kernelspec": {
   "display_name": "Python 3",
   "language": "python",
   "name": "python3"
  },
  "language_info": {
   "codemirror_mode": {
    "name": "ipython",
    "version": 3
   },
   "file_extension": ".py",
   "mimetype": "text/x-python",
   "name": "python",
   "nbconvert_exporter": "python",
   "pygments_lexer": "ipython3",
   "version": "3.7.4"
  }
 },
 "nbformat": 4,
 "nbformat_minor": 4
}
